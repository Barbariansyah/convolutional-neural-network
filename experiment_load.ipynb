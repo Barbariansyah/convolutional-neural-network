{
 "metadata": {
  "language_info": {
   "codemirror_mode": {
    "name": "ipython",
    "version": 3
   },
   "file_extension": ".py",
   "mimetype": "text/x-python",
   "name": "python",
   "nbconvert_exporter": "python",
   "pygments_lexer": "ipython3",
   "version": "3.8.5-final"
  },
  "orig_nbformat": 2,
  "kernelspec": {
   "name": "python38564bitvenv3d4dae818c874549a51afb42330413de",
   "display_name": "Python 3.8.5 64-bit ('venv')"
  }
 },
 "nbformat": 4,
 "nbformat_minor": 2,
 "cells": [
  {
   "source": [
    "# Tugas Besar 1 CNN"
   ],
   "cell_type": "markdown",
   "metadata": {}
  },
  {
   "source": [
    "## Eksperimen dengan load model"
   ],
   "cell_type": "markdown",
   "metadata": {}
  },
  {
   "cell_type": "code",
   "execution_count": 10,
   "metadata": {},
   "outputs": [],
   "source": [
    "# Import dependencies\n",
    "from cnn.cnn import MyCnn\n",
    "from cnn.layers import Conv2D, Pooling, Dense, Flatten\n",
    "from typing import List\n",
    "import numpy as np\n",
    "import tensorflow as tf\n",
    "import pickle\n",
    "from sklearn.model_selection import train_test_split\n",
    "from sklearn.metrics import confusion_matrix"
   ]
  },
  {
   "cell_type": "code",
   "execution_count": 11,
   "metadata": {},
   "outputs": [],
   "source": [
    "# Constant\n",
    "IMG_HEIGHT, IMG_WIDTH = 64, 64\n",
    "TRAIN_IMG_DIR = './dataset/train'\n",
    "TEST_IMG_DIR = './dataset/test'\n",
    "SEED = 6459164\n",
    "SIGMOID_THRESHOLD = 0.5"
   ]
  },
  {
   "cell_type": "code",
   "execution_count": 12,
   "metadata": {},
   "outputs": [],
   "source": [
    "# Helper Functions\n",
    "def save_model(model, file_name: str):\n",
    "    model_file = open(file_name, 'ab')\n",
    "    pickle.dump(model, model_file)\n",
    "    model_file.close()\n",
    "\n",
    "\n",
    "def load_model(file_name: str):\n",
    "    model_file = open(file_name, 'rb')\n",
    "    model = pickle.load(model_file)\n",
    "    model_file.close()\n",
    "\n",
    "    return model\n",
    "\n",
    "\n",
    "def load_img_as_train_dataset() -> np.array:\n",
    "    train_ds = tf.keras.preprocessing.image_dataset_from_directory(\n",
    "        TRAIN_IMG_DIR,\n",
    "        seed=SEED,\n",
    "        image_size=(IMG_HEIGHT, IMG_WIDTH)\n",
    "    )\n",
    "\n",
    "    imgs = []\n",
    "    labels = []\n",
    "    for img_batch, label_batch in train_ds:\n",
    "        imgs.append(img_batch.numpy())\n",
    "        labels.append(label_batch.numpy())\n",
    "\n",
    "    imgs = np.concatenate(imgs)\n",
    "    labels = np.concatenate(labels)\n",
    "\n",
    "    return imgs, labels\n",
    "\n",
    "\n",
    "def load_img_as_test_dataset() -> np.array:\n",
    "    test_ds = tf.keras.preprocessing.image_dataset_from_directory(\n",
    "        TEST_IMG_DIR,\n",
    "        seed=SEED,\n",
    "        image_size=(IMG_HEIGHT, IMG_WIDTH)\n",
    "    )\n",
    "\n",
    "    imgs = []\n",
    "    labels = []\n",
    "    for img_batch, label_batch in test_ds:\n",
    "        imgs.append(img_batch.numpy())\n",
    "        labels.append(label_batch.numpy())\n",
    "\n",
    "    imgs = np.concatenate(imgs)\n",
    "    labels = np.concatenate(labels)\n",
    "\n",
    "    return imgs, labels\n",
    "\n",
    "\n",
    "def normalize_img(img: np.array) -> np.array:\n",
    "    scalev = np.vectorize(lambda x: x / 255.0)\n",
    "    return scalev(img)\n",
    "\n",
    "\n",
    "def reorganize_layer(img: np.array) -> List[np.array]:\n",
    "    input_shape = img.shape\n",
    "    rows = input_shape[0]\n",
    "    cols = input_shape[1]\n",
    "    depth = input_shape[2]\n",
    "\n",
    "    layers = [np.array([[0] * cols] * rows) for _ in range(depth)]\n",
    "\n",
    "    for i, row in enumerate(img):\n",
    "        for j, col in enumerate(row):\n",
    "            for k, val in enumerate(col):\n",
    "                layers[k][i][j] = val\n",
    "\n",
    "    return layers\n",
    "\n",
    "\n",
    "def interpret_class(res: List[np.array]) -> int:\n",
    "    return 0 if res[0][0] < SIGMOID_THRESHOLD else 1"
   ]
  },
  {
   "cell_type": "code",
   "execution_count": 13,
   "metadata": {},
   "outputs": [
    {
     "output_type": "stream",
     "name": "stdout",
     "text": [
      "Found 40 files belonging to 2 classes.\n"
     ]
    }
   ],
   "source": [
    "# Load Images\n",
    "imgs, labels = load_img_as_test_dataset()\n",
    "labels = list(labels)\n",
    "\n",
    "img_list = []\n",
    "for img in imgs:\n",
    "    img_norm = normalize_img(img)\n",
    "    img_reorganized = reorganize_layer(img)\n",
    "    img_list.append(img_reorganized)"
   ]
  },
  {
   "cell_type": "code",
   "execution_count": 14,
   "metadata": {},
   "outputs": [],
   "source": [
    "# Load Model\n",
    "cnn = load_model('./models/ep5-bs100-lr0.1-m0.01-6459164.pkl')"
   ]
  },
  {
   "cell_type": "code",
   "execution_count": 15,
   "metadata": {},
   "outputs": [],
   "source": [
    "# Predict\n",
    "res_classes = []\n",
    "for img, label in zip(img_list, labels):\n",
    "    res, layers_input = cnn.feed_forward(img)\n",
    "    res_class = interpret_class(res)\n",
    "    res_classes.append(res_class)"
   ]
  },
  {
   "cell_type": "code",
   "execution_count": 16,
   "metadata": {},
   "outputs": [
    {
     "output_type": "execute_result",
     "data": {
      "text/plain": [
       "array([[ 0, 20],\n",
       "       [ 0, 20]])"
      ]
     },
     "metadata": {},
     "execution_count": 16
    }
   ],
   "source": [
    "# Print confusion matrix\n",
    "confusion_matrix(labels, res_classes)"
   ]
  }
 ]
}